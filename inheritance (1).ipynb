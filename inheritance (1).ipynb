{
 "cells": [
  {
   "cell_type": "markdown",
   "metadata": {},
   "source": [
    "# Inheritance in Object-Oriented Programming\n",
    "\n",
    "Inheritance lets a new class (child / derived) reuse, extend and override behaviour of an existing class (parent / base). It is a pillar of OOP together with encapsulation, polymorphism and abstraction.\n"
   ]
  },
  {
   "cell_type": "markdown",
   "metadata": {},
   "source": [
    "## Topics covered\n",
    "1. Why use inheritance?\n",
    "2. Single, Multiple, Multilevel & Hierarchical inheritance\n",
    "3. Method overriding & `super()`\n",
    "4. Method Resolution Order (MRO) & the diamond problem\n",
    "5. Abstract Base Classes (ABCs)\n",
    "6. Real-world Vehicle example\n",
    "7. Pros & cons\n"
   ]
  },
  {
   "cell_type": "markdown",
   "metadata": {},
   "source": [
    "---\n",
    "## 1.  Basic Example\n"
   ]
  },
  {
   "cell_type": "code",
   "execution_count": null,
   "metadata": {},
   "outputs": [],
   "source": [
    "class Animal:\n",
    "    def __init__(self, name):\n",
    "        self.name = name\n",
    "    def speak(self):\n",
    "        print(\"<generic animal sound>\")\n",
    "\n",
    "class Dog(Animal):\n",
    "    def speak(self):\n",
    "        print(f\"{self.name} says: Woof!\")\n",
    "\n",
    "rex = Dog(\"Rex\")\n",
    "rex.speak()\n"
   ]
  },
  {
   "cell_type": "markdown",
   "metadata": {},
   "source": [
    "The derived `Dog` class automatically gets `__init__` from `Animal` but **overrides** `speak()`.\n"
   ]
  },
  {
   "cell_type": "markdown",
   "metadata": {},
   "source": [
    "---\n",
    "## 2.  Types of Inheritance\n"
   ]
  },
  {
   "cell_type": "markdown",
   "metadata": {},
   "source": [
    "### 2.1.  Single Inheritance\n"
   ]
  },
  {
   "cell_type": "code",
   "execution_count": null,
   "metadata": {},
   "outputs": [],
   "source": [
    "class Parent:\n",
    "    def greet(self):\n",
    "        print(\"Hello from Parent\")\n",
    "\n",
    "class Child(Parent):\n",
    "    def greet_child(self):\n",
    "        print(\"Hello from Child\")\n",
    "\n",
    "c = Child()\n",
    "c.greet()\n",
    "c.greet_child()\n"
   ]
  },
  {
   "cell_type": "markdown",
   "metadata": {},
   "source": [
    "### 2.2.  Multilevel Inheritance\n"
   ]
  },
  {
   "cell_type": "code",
   "execution_count": null,
   "metadata": {},
   "outputs": [],
   "source": [
    "class Grandparent:\n",
    "    def who(self):\n",
    "        print(\"I am grandparent\")\n",
    "\n",
    "class Parent(Grandparent):\n",
    "    pass\n",
    "\n",
    "class Child(Parent):\n",
    "    pass\n",
    "\n",
    "child = Child()\n",
    "child.who()\n"
   ]
  },
  {
   "cell_type": "markdown",
   "metadata": {},
   "source": [
    "### 2.3.  Multiple Inheritance\n"
   ]
  },
  {
   "cell_type": "code",
   "execution_count": null,
   "metadata": {},
   "outputs": [],
   "source": [
    "class Flyer:\n",
    "    def fly(self):\n",
    "        print(\"Flying\")\n",
    "\n",
    "class Swimmer:\n",
    "    def swim(self):\n",
    "        print(\"Swimming\")\n",
    "\n",
    "class Duck(Flyer, Swimmer):\n",
    "    pass\n",
    "\n",
    "d = Duck()\n",
    "d.fly(); d.swim()\n"
   ]
  },
  {
   "cell_type": "markdown",
   "metadata": {},
   "source": [
    "### 2.4.  Hierarchical Inheritance\n"
   ]
  },
  {
   "cell_type": "code",
   "execution_count": null,
   "metadata": {},
   "outputs": [],
   "source": [
    "class Vehicle:\n",
    "    def start(self):\n",
    "        print(\"Engine started\")\n",
    "\n",
    "class Car(Vehicle):\n",
    "    pass\n",
    "class Motorcycle(Vehicle):\n",
    "    pass\n",
    "\n",
    "Car().start(); Motorcycle().start()\n"
   ]
  },
  {
   "cell_type": "markdown",
   "metadata": {},
   "source": [
    "---\n",
    "## 3.  Method Overriding & `super()`\n"
   ]
  },
  {
   "cell_type": "code",
   "execution_count": null,
   "metadata": {},
   "outputs": [],
   "source": [
    "class Person:\n",
    "    def __init__(self, name):\n",
    "        self.name = name\n",
    "    def info(self):\n",
    "        print(f\"Name: {self.name}\")\n",
    "\n",
    "class Student(Person):\n",
    "    def __init__(self, name, sid):\n",
    "        super().__init__(name) # call parent\n",
    "        self.sid = sid\n",
    "    def info(self):\n",
    "        super().info()\n",
    "        print(f\"Student ID: {self.sid}\")\n",
    "\n",
    "Student(\"Alice\", \"S01\").info()\n"
   ]
  },
  {
   "cell_type": "markdown",
   "metadata": {},
   "source": [
    "---\n",
    "## 4.  Method Resolution Order (MRO) & Diamond Problem\n"
   ]
  },
  {
   "cell_type": "code",
   "execution_count": null,
   "metadata": {},
   "outputs": [],
   "source": [
    "class A:    def show(self): print('A')\n",
    "class B(A): def show(self): print('B')\n",
    "class C(A): def show(self): print('C')\n",
    "class D(B, C): pass\n",
    "\n",
    "d = D()\n",
    "d.show()        # prints 'B' (first parent)\n",
    "print(D.__mro__)  # tuple describing lookup order\n"
   ]
  },
  {
   "cell_type": "markdown",
   "metadata": {},
   "source": [
    "Because `B` precedes `C` in the inheritance list of `D`, Python searches `B` before `C`.\n"
   ]
  },
  {
   "cell_type": "markdown",
   "metadata": {},
   "source": [
    "---\n",
    "## 5.  Abstract Base Classes (ABCs)\n"
   ]
  },
  {
   "cell_type": "code",
   "execution_count": null,
   "metadata": {},
   "outputs": [],
   "source": [
    "from abc import ABC, abstractmethod\n",
    "\n",
    "class Shape(ABC):\n",
    "    @abstractmethod\n",
    "    def area(self): pass\n",
    "\n",
    "class Rectangle(Shape):\n",
    "    def __init__(self, w, h): self.w, self.h = w, h\n",
    "    def area(self): return self.w * self.h\n",
    "\n",
    "class Circle(Shape):\n",
    "    def __init__(self, r): self.r = r\n",
    "    def area(self): return 3.1416 * self.r**2\n",
    "\n",
    "for s in (Rectangle(3,4), Circle(2)):\n",
    "    print(type(s).__name__, s.area())\n"
   ]
  },
  {
   "cell_type": "markdown",
   "metadata": {},
   "source": [
    "ABCs enforce that subclasses implement required methods.\n"
   ]
  },
  {
   "cell_type": "markdown",
   "metadata": {},
   "source": [
    "---\n",
    "## 6.  Real-World Example — Vehicle Hierarchy\n"
   ]
  },
  {
   "cell_type": "code",
   "execution_count": null,
   "metadata": {},
   "outputs": [],
   "source": [
    "class Vehicle:\n",
    "    def __init__(self, make, model):\n",
    "        self.make, self.model = make, model\n",
    "    def info(self):\n",
    "        return f'{self.make} {self.model}'\n",
    "\n",
    "class Car(Vehicle):\n",
    "    def __init__(self, make, model, doors):\n",
    "        super().__init__(make, model)\n",
    "        self.doors = doors\n",
    "    def info(self):\n",
    "        return f'{super().info()}, {self.doors} doors'\n",
    "\n",
    "class ElectricCar(Car):\n",
    "    def __init__(self, make, model, doors, battery):\n",
    "        super().__init__(make, model, doors)\n",
    "        self.battery = battery\n",
    "    def charge(self):\n",
    "        print('Charging…')\n",
    "\n",
    "ecar = ElectricCar('Tesla', 'Model 3', 4, '75kWh')\n",
    "print(ecar.info())\n",
    "ecar.charge()\n"
   ]
  },
  {
   "cell_type": "markdown",
   "metadata": {},
   "source": [
    "We have multilevel inheritance: `Vehicle -> Car -> ElectricCar`.\n"
   ]
  },
  {
   "cell_type": "markdown",
   "metadata": {},
   "source": [
    "---\n",
    "## 7.  Pros & Cons of Inheritance\n",
    "### Advantages\n",
    "* **Reusability** – avoid duplicating code.\n",
    "* **Extensibility** – add features via subclasses.\n",
    "* **Logical hierarchy** – mirrors real-world relationships.\n",
    "\n",
    "### Drawbacks\n",
    "* **Tight coupling** – child depends on parent implementation.\n",
    "* **Fragile base-class** – changes ripple to many subclasses.\n",
    "* Can lead to deep, complex hierarchies; composition is often preferable.\n"
   ]
  },
  {
   "cell_type": "markdown",
   "metadata": {},
   "source": [
    "## Conclusion\n",
    "Mastering inheritance allows you to design clean, reusable class hierarchies while understanding its pitfalls helps you choose composition when appropriate.\n"
   ]
  }
 ],
 "metadata": {
  "kernelspec": {
   "display_name": "Python 3",
   "language": "python",
   "name": "python3"
  },
  "language_info": {
   "name": "python",
   "version": "3.8"
  }
 },
 "nbformat": 4,
 "nbformat_minor": 4
}
