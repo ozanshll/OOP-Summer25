{
 "cells": [
  {
   "cell_type": "markdown",
   "metadata": {},
   "source": [
    "# Polymorphism\n",
    "\n",
    "Polymorphism (from Greek *poly* = many, *morph* = form) allows a common interface to work with objects of multiple concrete classes. In practice this means writing code that can call the **same method name** on objects of *different* types and have each object respond in its own way.\n"
   ]
  },
  {
   "cell_type": "markdown",
   "metadata": {},
   "source": [
    "## Key Flavors of Polymorphism\n",
    "1. **Method overriding** – redefine a method in subclasses.\n",
    "2. **Duck typing** – \"if it quacks like a duck…\" (structural typing).\n",
    "3. **(Pseudo) method overloading** – simulate multiple signatures via default / variable-length args.\n",
    "4. **Operator overloading** – define special dunder methods ( `__add__`, `__mul__`, … ).\n",
    "5. **Interface / ABC polymorphism** – different classes fulfill a common abstract base class or interface.\n"
   ]
  },
  {
   "cell_type": "markdown",
   "metadata": {},
   "source": [
    "---\n",
    "## 1. Method Overriding\n",
    "A subclass provides its own implementation for a method defined by its superclass.\n"
   ]
  },
  {
   "cell_type": "code",
   "execution_count": 1,
   "metadata": {},
   "outputs": [
    {
     "name": "stdout",
     "output_type": "stream",
     "text": [
      "<generic animal noise>\n",
      "Woof!\n",
      "Meow!\n"
     ]
    }
   ],
   "source": [
    "class Animal:\n",
    "    def speak(self):\n",
    "        print(\"<generic animal noise>\")\n",
    "\n",
    "class Dog(Animal):\n",
    "    def speak(self):\n",
    "        print(\"Woof!\")\n",
    "\n",
    "class Cat(Animal):\n",
    "    def speak(self):\n",
    "        print(\"Meow!\")\n",
    "\n",
    "for pet in (Animal(), Dog(), Cat()):\n",
    "    pet.speak()  # same call, different behavior\n"
   ]
  },
  {
   "cell_type": "markdown",
   "metadata": {},
   "source": [
    "Above, `speak()` is overridden in `Dog` and `Cat`. The *interface* remains the same but the *behavior* varies per class.\n"
   ]
  },
  {
   "cell_type": "markdown",
   "metadata": {},
   "source": [
    "---\n",
    "## 2. Duck Typing (Structural Polymorphism)\n",
    "Python focuses on an object's **capabilities**, not its declared type.\n"
   ]
  },
  {
   "cell_type": "code",
   "execution_count": 2,
   "metadata": {},
   "outputs": [
    {
     "name": "stdout",
     "output_type": "stream",
     "text": [
      "Woof!\n",
      "Meow!\n"
     ]
    }
   ],
   "source": [
    "def make_it_speak(thing):\n",
    "    thing.speak()  # works as long as 'thing' has a speak() method\n",
    "\n",
    "make_it_speak(Dog())\n",
    "make_it_speak(Cat())\n"
   ]
  },
  {
   "cell_type": "markdown",
   "metadata": {},
   "source": [
    "The function doesn't check `isinstance(thing, Animal)`. Any object with `speak()` satisfies the \"interface\".\n"
   ]
  },
  {
   "cell_type": "markdown",
   "metadata": {},
   "source": [
    "---\n",
    "## 3. Simulating Method Overloading\n",
    "Python lacks true compile-time overloading, but we can accept variable arguments.\n"
   ]
  },
  {
   "cell_type": "code",
   "execution_count": 3,
   "metadata": {},
   "outputs": [
    {
     "name": "stdout",
     "output_type": "stream",
     "text": [
      "5\n",
      "10\n"
     ]
    }
   ],
   "source": [
    "class Calculator:\n",
    "    def add(self, *numbers):\n",
    "        return sum(numbers)\n",
    "\n",
    "calc = Calculator()\n",
    "print(calc.add(2, 3))        # 5\n",
    "print(calc.add(1, 2, 3, 4)) # 10\n"
   ]
  },
  {
   "cell_type": "markdown",
   "metadata": {},
   "source": [
    "One method handles multiple \"signatures\" via `*args`.\n"
   ]
  },
  {
   "cell_type": "markdown",
   "metadata": {},
   "source": [
    "---\n",
    "## 4. Operator Overloading\n",
    "With special (dunder) methods we make operators behave polymorphically.\n"
   ]
  },
  {
   "cell_type": "code",
   "execution_count": 4,
   "metadata": {},
   "outputs": [
    {
     "name": "stdout",
     "output_type": "stream",
     "text": [
      "Vector(7, 10)\n",
      "Vector(6, 9)\n"
     ]
    }
   ],
   "source": [
    "class Vector:\n",
    "    def __init__(self, x, y):\n",
    "        self.x, self.y = x, y\n",
    "    def __repr__(self):\n",
    "        return f\"Vector({self.x}, {self.y})\"\n",
    "    def __add__(self, other):\n",
    "        return Vector(self.x + other.x, self.y + other.y)\n",
    "    def __mul__(self, scalar):\n",
    "        return Vector(self.x * scalar, self.y * scalar)\n",
    "\n",
    "v1 = Vector(2, 3)\n",
    "v2 = Vector(5, 7)\n",
    "print(v1 + v2)  # Vector(7, 10)\n",
    "print(v1 * 3)   # Vector(6, 9)\n"
   ]
  },
  {
   "cell_type": "markdown",
   "metadata": {},
   "source": [
    "Operators `+` and `*` now work on our custom type, each calling the appropriate dunder under the hood.\n"
   ]
  },
  {
   "cell_type": "markdown",
   "metadata": {},
   "source": [
    "---\n",
    "## 5. Abstract Base Classes (Interface Polymorphism)\n",
    "`abc` lets us define required methods without implementation.\n"
   ]
  },
  {
   "cell_type": "code",
   "execution_count": 5,
   "metadata": {},
   "outputs": [
    {
     "name": "stdout",
     "output_type": "stream",
     "text": [
      "Rectangle 12\n",
      "Circle 78.53999999999999\n"
     ]
    }
   ],
   "source": [
    "from abc import ABC, abstractmethod\n",
    "\n",
    "class Shape(ABC):\n",
    "    @abstractmethod\n",
    "    def area(self): ...\n",
    "\n",
    "class Rectangle(Shape):\n",
    "    def __init__(self, w, h):\n",
    "        self.w, self.h = w, h\n",
    "    def area(self):\n",
    "        return self.w * self.h\n",
    "\n",
    "class Circle(Shape):\n",
    "    def __init__(self, r):\n",
    "        self.r = r\n",
    "    def area(self):\n",
    "        return 3.1416 * self.r ** 2\n",
    "\n",
    "for s in (Rectangle(3, 4), Circle(5)):\n",
    "    print(type(s).__name__, s.area())\n"
   ]
  },
  {
   "cell_type": "markdown",
   "metadata": {},
   "source": [
    "Both classes honour the same `Shape` interface but compute area differently.\n"
   ]
  },
  {
   "cell_type": "markdown",
   "metadata": {},
   "source": [
    "---\n",
    "## 6. Real-World Example  —   Payment Processing\n",
    "Imagine an e-commerce checkout that can process multiple payment types.\n"
   ]
  },
  {
   "cell_type": "code",
   "execution_count": 6,
   "metadata": {},
   "outputs": [
    {
     "name": "stdout",
     "output_type": "stream",
     "text": [
      "Charging $49.99 to credit card\n",
      "Processing PayPal payment of $12.50\n"
     ]
    }
   ],
   "source": [
    "class PaymentMethod(ABC):\n",
    "    @abstractmethod\n",
    "    def pay(self, amount): ...\n",
    "\n",
    "class CreditCard(PaymentMethod):\n",
    "    def pay(self, amount):\n",
    "        print(f\"Charging ${amount:.2f} to credit card\")\n",
    "\n",
    "class PayPal(PaymentMethod):\n",
    "    def pay(self, amount):\n",
    "        print(f\"Processing PayPal payment of ${amount:.2f}\")\n",
    "\n",
    "def checkout(payment_obj, amount):\n",
    "    payment_obj.pay(amount) # polymorphic call\n",
    "\n",
    "checkout(CreditCard(), 49.99)\n",
    "checkout(PayPal(), 12.5)\n"
   ]
  },
  {
   "cell_type": "markdown",
   "metadata": {},
   "source": [
    "The checkout code stays the same even as new payment methods are added in the future.\n"
   ]
  },
  {
   "cell_type": "markdown",
   "metadata": {},
   "source": [
    "---\n",
    "## Benefits of Polymorphism\n",
    "* Reduces code duplication.\n",
    "* Improves flexibility & extensibility.\n",
    "* Promotes interface-driven design and testing.\n",
    "\n",
    "## Possible Drawbacks\n",
    "* Excess abstraction can obscure logic.\n",
    "* Harder to trace concrete implementations during debugging.\n"
   ]
  },
  {
   "cell_type": "markdown",
   "metadata": {},
   "source": [
    "## Conclusion\n",
    "Polymorphism is a cornerstone of OOP, enabling “write once, use everywhere” APIs. Mastering its different flavors lets you design cleaner, more maintainable software.\n"
   ]
  }
 ],
 "metadata": {
  "kernelspec": {
   "display_name": "Python 3",
   "language": "python",
   "name": "python3"
  },
  "language_info": {
   "codemirror_mode": {
    "name": "ipython",
    "version": 3
   },
   "file_extension": ".py",
   "mimetype": "text/x-python",
   "name": "python",
   "nbconvert_exporter": "python",
   "pygments_lexer": "ipython3",
   "version": "3.12.8"
  }
 },
 "nbformat": 4,
 "nbformat_minor": 4
}
